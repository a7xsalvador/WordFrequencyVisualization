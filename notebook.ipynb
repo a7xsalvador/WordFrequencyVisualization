{
  "cells": [
    {
      "cell_type": "code",
      "metadata": {
        "tags": [],
        "cell_id": "00000-0d174663-f84f-4b4d-9a6e-6018016f1495",
        "deepnote_to_be_reexecuted": false,
        "source_hash": "c07a8d2",
        "execution_start": 1615259350655,
        "execution_millis": 17009,
        "deepnote_cell_type": "code"
      },
      "source": "import nltk\nnltk.download('book') #muchos libros en ingles cargados en la libreria ya tokenizado\nfrom nltk.book import * #importa todo lo que tengo \nimport matplotlib.pyplot as plt\nimport numpy as np",
      "execution_count": 1,
      "outputs": [
        {
          "name": "stderr",
          "text": "[nltk_data] Downloading collection 'book'\n[nltk_data]    | \n[nltk_data]    | Downloading package abc to /root/nltk_data...\n[nltk_data]    |   Unzipping corpora/abc.zip.\n[nltk_data]    | Downloading package brown to /root/nltk_data...\n[nltk_data]    |   Unzipping corpora/brown.zip.\n[nltk_data]    | Downloading package chat80 to /root/nltk_data...\n[nltk_data]    |   Unzipping corpora/chat80.zip.\n[nltk_data]    | Downloading package cmudict to /root/nltk_data...\n[nltk_data]    |   Unzipping corpora/cmudict.zip.\n[nltk_data]    | Downloading package conll2000 to /root/nltk_data...\n[nltk_data]    |   Unzipping corpora/conll2000.zip.\n[nltk_data]    | Downloading package conll2002 to /root/nltk_data...\n[nltk_data]    |   Unzipping corpora/conll2002.zip.\n[nltk_data]    | Downloading package dependency_treebank to\n[nltk_data]    |     /root/nltk_data...\n[nltk_data]    |   Unzipping corpora/dependency_treebank.zip.\n[nltk_data]    | Downloading package genesis to /root/nltk_data...\n[nltk_data]    |   Unzipping corpora/genesis.zip.\n[nltk_data]    | Downloading package gutenberg to /root/nltk_data...\n[nltk_data]    |   Unzipping corpora/gutenberg.zip.\n[nltk_data]    | Downloading package ieer to /root/nltk_data...\n[nltk_data]    |   Unzipping corpora/ieer.zip.\n[nltk_data]    | Downloading package inaugural to /root/nltk_data...\n[nltk_data]    |   Unzipping corpora/inaugural.zip.\n[nltk_data]    | Downloading package movie_reviews to\n[nltk_data]    |     /root/nltk_data...\n[nltk_data]    |   Unzipping corpora/movie_reviews.zip.\n[nltk_data]    | Downloading package nps_chat to /root/nltk_data...\n[nltk_data]    |   Unzipping corpora/nps_chat.zip.\n[nltk_data]    | Downloading package names to /root/nltk_data...\n[nltk_data]    |   Unzipping corpora/names.zip.\n[nltk_data]    | Downloading package ppattach to /root/nltk_data...\n[nltk_data]    |   Unzipping corpora/ppattach.zip.\n[nltk_data]    | Downloading package reuters to /root/nltk_data...\n[nltk_data]    | Downloading package senseval to /root/nltk_data...\n[nltk_data]    |   Unzipping corpora/senseval.zip.\n[nltk_data]    | Downloading package state_union to /root/nltk_data...\n[nltk_data]    |   Unzipping corpora/state_union.zip.\n[nltk_data]    | Downloading package stopwords to /root/nltk_data...\n[nltk_data]    |   Unzipping corpora/stopwords.zip.\n[nltk_data]    | Downloading package swadesh to /root/nltk_data...\n[nltk_data]    |   Unzipping corpora/swadesh.zip.\n[nltk_data]    | Downloading package timit to /root/nltk_data...\n[nltk_data]    |   Unzipping corpora/timit.zip.\n[nltk_data]    | Downloading package treebank to /root/nltk_data...\n[nltk_data]    |   Unzipping corpora/treebank.zip.\n[nltk_data]    | Downloading package toolbox to /root/nltk_data...\n[nltk_data]    |   Unzipping corpora/toolbox.zip.\n[nltk_data]    | Downloading package udhr to /root/nltk_data...\n[nltk_data]    |   Unzipping corpora/udhr.zip.\n[nltk_data]    | Downloading package udhr2 to /root/nltk_data...\n[nltk_data]    |   Unzipping corpora/udhr2.zip.\n[nltk_data]    | Downloading package unicode_samples to\n[nltk_data]    |     /root/nltk_data...\n[nltk_data]    |   Unzipping corpora/unicode_samples.zip.\n[nltk_data]    | Downloading package webtext to /root/nltk_data...\n[nltk_data]    |   Unzipping corpora/webtext.zip.\n[nltk_data]    | Downloading package wordnet to /root/nltk_data...\n[nltk_data]    |   Unzipping corpora/wordnet.zip.\n[nltk_data]    | Downloading package wordnet_ic to /root/nltk_data...\n[nltk_data]    |   Unzipping corpora/wordnet_ic.zip.\n[nltk_data]    | Downloading package words to /root/nltk_data...\n[nltk_data]    |   Unzipping corpora/words.zip.\n[nltk_data]    | Downloading package maxent_treebank_pos_tagger to\n[nltk_data]    |     /root/nltk_data...\n[nltk_data]    |   Unzipping taggers/maxent_treebank_pos_tagger.zip.\n[nltk_data]    | Downloading package maxent_ne_chunker to\n[nltk_data]    |     /root/nltk_data...\n[nltk_data]    |   Unzipping chunkers/maxent_ne_chunker.zip.\n[nltk_data]    | Downloading package universal_tagset to\n[nltk_data]    |     /root/nltk_data...\n[nltk_data]    |   Unzipping taggers/universal_tagset.zip.\n[nltk_data]    | Downloading package punkt to /root/nltk_data...\n[nltk_data]    |   Unzipping tokenizers/punkt.zip.\n[nltk_data]    | Downloading package book_grammars to\n[nltk_data]    |     /root/nltk_data...\n[nltk_data]    |   Unzipping grammars/book_grammars.zip.\n[nltk_data]    | Downloading package city_database to\n[nltk_data]    |     /root/nltk_data...\n[nltk_data]    |   Unzipping corpora/city_database.zip.\n[nltk_data]    | Downloading package tagsets to /root/nltk_data...\n[nltk_data]    |   Unzipping help/tagsets.zip.\n[nltk_data]    | Downloading package panlex_swadesh to\n[nltk_data]    |     /root/nltk_data...\n[nltk_data]    | Downloading package averaged_perceptron_tagger to\n[nltk_data]    |     /root/nltk_data...\n[nltk_data]    |   Unzipping taggers/averaged_perceptron_tagger.zip.\n[nltk_data]    | \n[nltk_data]  Done downloading collection book\n*** Introductory Examples for the NLTK Book ***\nLoading text1, ..., text9 and sent1, ..., sent9\nType the name of the text or sentence to view it.\nType: 'texts()' or 'sents()' to list the materials.\ntext1: Moby Dick by Herman Melville 1851\ntext2: Sense and Sensibility by Jane Austen 1811\ntext3: The Book of Genesis\ntext4: Inaugural Address Corpus\ntext5: Chat Corpus\ntext6: Monty Python and the Holy Grail\ntext7: Wall Street Journal\ntext8: Personals Corpus\ntext9: The Man Who Was Thursday by G . K . Chesterton 1908\n",
          "output_type": "stream"
        }
      ]
    },
    {
      "cell_type": "markdown",
      "source": "# Estadísticas básicas del lenguaje\nEste documento muestra una visualización de las estadísticas básicas del lenguaje. Importamos NLTK, una librerías de python para la manipulación de lenguaje natural. Podemos ver que esta librería tiene contenido ya tokenizado de la siguiente forma:",
      "metadata": {
        "tags": [],
        "cell_id": "00002-dcafdedd-2e7a-473b-b30a-fc4e3fbbc2e3",
        "deepnote_cell_type": "markdown"
      }
    },
    {
      "cell_type": "code",
      "source": "text1 ",
      "metadata": {
        "tags": [],
        "cell_id": "00002-c33bc545-913e-480b-8650-ef5da9e5f981",
        "deepnote_to_be_reexecuted": false,
        "source_hash": "fefe7d74",
        "execution_start": 1615259499983,
        "execution_millis": 17,
        "deepnote_cell_type": "code"
      },
      "outputs": [
        {
          "output_type": "execute_result",
          "execution_count": 2,
          "data": {
            "text/plain": "<Text: Moby Dick by Herman Melville 1851>"
          },
          "metadata": {}
        }
      ],
      "execution_count": 2
    },
    {
      "cell_type": "markdown",
      "source": "Para ver los tokens usamos",
      "metadata": {
        "tags": [],
        "cell_id": "00003-07ed6d38-e8a8-4b2d-a46c-2210e29f1124",
        "deepnote_cell_type": "markdown"
      }
    },
    {
      "cell_type": "code",
      "source": "text1.tokens[:10]",
      "metadata": {
        "tags": [],
        "cell_id": "00004-117f07bb-b87d-4704-95aa-42018c8b51c3",
        "deepnote_to_be_reexecuted": false,
        "source_hash": "f69208a5",
        "execution_start": 1615259560763,
        "execution_millis": 5,
        "deepnote_cell_type": "code"
      },
      "outputs": [
        {
          "output_type": "execute_result",
          "execution_count": 3,
          "data": {
            "text/plain": "['[',\n 'Moby',\n 'Dick',\n 'by',\n 'Herman',\n 'Melville',\n '1851',\n ']',\n 'ETYMOLOGY',\n '.']"
          },
          "metadata": {}
        }
      ],
      "execution_count": 3
    },
    {
      "cell_type": "markdown",
      "source": "La longitud del texto la podemos ver",
      "metadata": {
        "tags": [],
        "cell_id": "00005-b2db0fed-33e1-44f5-bafe-d4c0000303ac",
        "deepnote_cell_type": "markdown"
      }
    },
    {
      "cell_type": "code",
      "source": "print(len(text1))",
      "metadata": {
        "tags": [],
        "cell_id": "00006-51dbd0d5-13a8-47eb-a202-e20db6c77b6b",
        "deepnote_to_be_reexecuted": false,
        "source_hash": "dd65ed5b",
        "execution_start": 1615259580096,
        "execution_millis": 6,
        "deepnote_cell_type": "code"
      },
      "outputs": [
        {
          "name": "stdout",
          "text": "260819\n",
          "output_type": "stream"
        }
      ],
      "execution_count": 4
    },
    {
      "cell_type": "markdown",
      "source": "veamos algunas metricas del texto\nuna de ellas es la riqueza del texto rl\n$$\nrl=\\frac{palabras unicas }{total}\n$$\n\n",
      "metadata": {
        "tags": [],
        "cell_id": "00007-ebfddfa2-987d-4c38-8abb-57e5037297de",
        "deepnote_cell_type": "markdown"
      }
    },
    {
      "cell_type": "code",
      "source": "vocabulario=set(text1)#coge la lista de tokens y donde haya tokens repetidos no los toma en cuenta\n#vocabulario esta en forma de diccionario\nvocabulario= sorted(set(text1))\n\nrl = len(vocabulario)/len(text1)\nprint(rl)",
      "metadata": {
        "tags": [],
        "cell_id": "00008-c54ad783-16bc-462c-9fae-e2a6723950a4",
        "deepnote_to_be_reexecuted": false,
        "source_hash": "dcfb81b2",
        "execution_start": 1615259678346,
        "execution_millis": 131,
        "deepnote_cell_type": "code"
      },
      "outputs": [
        {
          "name": "stdout",
          "text": "0.07406285585022564\n",
          "output_type": "stream"
        }
      ],
      "execution_count": 5
    },
    {
      "cell_type": "markdown",
      "source": "Hecho esto, es fácil definir la función:",
      "metadata": {
        "tags": [],
        "cell_id": "00009-f7b2dec5-7255-4d72-8a0d-bfbf1a59035e",
        "deepnote_cell_type": "markdown"
      }
    },
    {
      "cell_type": "code",
      "source": "def riqueza_lexica(texto):\n  vocabulario= sorted(set(texto))\n  return  len(vocabulario)/len(texto)",
      "metadata": {
        "tags": [],
        "cell_id": "00010-72ff2afa-e71a-404f-8ed3-fe620d269813",
        "deepnote_to_be_reexecuted": false,
        "source_hash": "8d59ff14",
        "execution_start": 1615259704100,
        "execution_millis": 0,
        "deepnote_cell_type": "code"
      },
      "outputs": [],
      "execution_count": 6
    },
    {
      "cell_type": "markdown",
      "source": "Ahora la probamos en un texto diferente",
      "metadata": {
        "tags": [],
        "cell_id": "00011-20206452-7870-4f45-b125-a787c7914cae",
        "deepnote_cell_type": "markdown"
      }
    },
    {
      "cell_type": "code",
      "source": "print(text2)\nriqueza_lexica(text2)",
      "metadata": {
        "tags": [],
        "cell_id": "00012-8d761b49-ff0d-4e02-8c04-261156b12d11",
        "deepnote_to_be_reexecuted": false,
        "source_hash": "d78f9f8d",
        "execution_start": 1615259736842,
        "execution_millis": 5,
        "deepnote_cell_type": "code"
      },
      "outputs": [
        {
          "name": "stdout",
          "text": "<Text: Sense and Sensibility by Jane Austen 1811>\n",
          "output_type": "stream"
        },
        {
          "output_type": "execute_result",
          "execution_count": 7,
          "data": {
            "text/plain": "0.04826383002768831"
          },
          "metadata": {}
        }
      ],
      "execution_count": 7
    },
    {
      "cell_type": "markdown",
      "source": "También el porcentaje de determinada palabra en un texto lo podemos estimar con la siguiente función:",
      "metadata": {
        "tags": [],
        "cell_id": "00013-897c029b-1fea-4c00-8048-8cadd30f9b6d",
        "deepnote_cell_type": "markdown"
      }
    },
    {
      "cell_type": "code",
      "source": "def porcentaje_palabra(palabra, texto):\n  return 100*texto.count(palabra)/len(texto)  ",
      "metadata": {
        "tags": [],
        "cell_id": "00014-7799cf31-9f55-4625-a096-8add33c33231",
        "deepnote_to_be_reexecuted": false,
        "source_hash": "9697be7e",
        "execution_start": 1615259785946,
        "execution_millis": 1,
        "deepnote_cell_type": "code"
      },
      "outputs": [],
      "execution_count": 8
    },
    {
      "cell_type": "code",
      "source": "print(text1.count('Moby'))\nporcentaje_palabra('god', text1)",
      "metadata": {
        "tags": [],
        "cell_id": "00015-73a22dec-84ab-415b-9c7e-9e70550414bc",
        "deepnote_to_be_reexecuted": false,
        "source_hash": "5d5f49ce",
        "execution_start": 1615259792468,
        "execution_millis": 20,
        "deepnote_cell_type": "code"
      },
      "outputs": [
        {
          "name": "stdout",
          "text": "84\n",
          "output_type": "stream"
        },
        {
          "output_type": "execute_result",
          "execution_count": 9,
          "data": {
            "text/plain": "0.007668153010325168"
          },
          "metadata": {}
        }
      ],
      "execution_count": 9
    },
    {
      "cell_type": "markdown",
      "source": "# Diccionarios\n\npodemos hacer, en teoría, un diccionario\n",
      "metadata": {
        "tags": [],
        "cell_id": "00016-5a2ed1a6-e95c-4b48-b5d2-01082bfa8481",
        "deepnote_cell_type": "markdown"
      }
    },
    {
      "cell_type": "code",
      "source": "dic={}\nfor palabra in set(text1):\n  dic[palabra]= text1.count(palabra)#este metodo tarda mucho\ndic",
      "metadata": {
        "tags": [],
        "cell_id": "00017-6c23c1d6-c1b3-4d94-a190-298d34e55621",
        "deepnote_to_be_reexecuted": false,
        "source_hash": "cfdee6a1",
        "execution_start": 1615259817483,
        "execution_millis": 70937,
        "deepnote_cell_type": "code"
      },
      "outputs": [
        {
          "output_type": "execute_result",
          "execution_count": 10,
          "data": {
            "text/plain": "{'cheapest': 1,\n 'countries': 4,\n 'gown': 1,\n 'druggs': 1,\n 'unbegotten': 1,\n 'spots': 3,\n 'snort': 1,\n 'laugheth': 1,\n 'Pannangians': 1,\n 'moderate': 2,\n 'intersecting': 1,\n 'familiarly': 5,\n 'totalities': 1,\n 'disobeying': 1,\n 'Cabin': 3,\n 'y': 2,\n 'WALW': 1,\n 'salutation': 3,\n 'mixes': 1,\n 'suddenly': 45,\n 'ruffles': 1,\n 'spawned': 1,\n 'questioning': 2,\n 'hovers': 2,\n 'navel': 2,\n 'trained': 1,\n 'discolour': 1,\n 'holiday': 2,\n 'lest': 7,\n 'mainmast': 10,\n 'tens': 3,\n 'Very': 11,\n 'temperance': 1,\n 'live': 60,\n 'brush': 1,\n 'Israel': 1,\n 'column': 5,\n 'embayed': 1,\n 'Gam': 1,\n 'appellative': 2,\n 'miserable': 8,\n 'Hyena': 3,\n 'prolongingly': 1,\n 'Malay': 1,\n 'Testament': 1,\n 'diabolically': 1,\n 'deacon': 1,\n 'stomachs': 1,\n 'Lashed': 1,\n 'blows': 23,\n 'spot': 23,\n 'improvements': 2,\n 'accommodate': 2,\n 'touching': 45,\n 'father': 16,\n 'Throttling': 1,\n 'whipped': 1,\n 'belly': 9,\n 'hurriedly': 2,\n 'courts': 1,\n 'fearful': 12,\n 'glances': 7,\n 'investigators': 1,\n 'newly': 6,\n 'branch': 4,\n 'barbs': 12,\n 'entombment': 1,\n 'tumbling': 4,\n 'lightens': 1,\n 'jingle': 1,\n 'ISOLATO': 1,\n 'erections': 2,\n 'shyness': 1,\n 'Dampier': 1,\n 'diametrically': 1,\n 'daylight': 9,\n 'Aldrovandus': 1,\n 'laughing': 4,\n 'pronounced': 5,\n 'liability': 1,\n 'event': 11,\n 'CAULKING': 1,\n 'pursued': 10,\n 'rays': 6,\n 'congenial': 5,\n 'livelihood': 2,\n 'hulls': 5,\n 'Barbary': 2,\n 'Sydney': 1,\n 'Garnery': 4,\n 'apostolic': 2,\n 'tossed': 31,\n 'deadliest': 3,\n 'nosegays': 1,\n 'rendered': 1,\n 'alike': 10,\n 'Tis': 7,\n 'flanking': 1,\n 'osseous': 1,\n 'curious': 53,\n 'electricity': 1,\n 'bowing': 6,\n 'evening': 18,\n 'political': 2,\n 'babies': 3,\n 'freebooters': 1,\n 'texture': 1,\n 'Sandwich': 2,\n 'tightened': 1,\n 'ascribed': 5,\n 'rampart': 3,\n 'COLL': 2,\n 'insurance': 2,\n 'ring': 17,\n 'globular': 4,\n 'reputed': 1,\n 'gallopingly': 1,\n 'hospitable': 5,\n 'indispensable': 11,\n 'Crish': 1,\n 'forges': 1,\n 'vowing': 1,\n 'meals': 6,\n 'fallacious': 1,\n 'impregnated': 1,\n 'tongs': 9,\n 'hogshead': 2,\n 'drove': 3,\n 'moments': 12,\n 'giving': 26,\n 'Fellow': 1,\n 'Freely': 1,\n 'size': 12,\n 'woraciousness': 2,\n 'Stoics': 1,\n 'liest': 1,\n 'Tit': 2,\n 'sorter': 1,\n 'lingers': 1,\n 'seat': 18,\n 'heightened': 6,\n 'bounds': 2,\n 'Merchant': 4,\n 'ducking': 4,\n 'cannot': 69,\n 'resistance': 4,\n 'Cough': 1,\n 'he': 1661,\n 'furled': 2,\n 'huzza': 2,\n 'obstreperously': 1,\n 'regions': 4,\n 'Lay': 4,\n 'omniscient': 2,\n 'warehouse': 2,\n 'appal': 3,\n 'sovereign': 2,\n 'polar': 2,\n 'pleasant': 16,\n 'Meanwhile': 16,\n 'surveillance': 1,\n 'flap': 2,\n 'monied': 1,\n 'felonious': 1,\n 'incommunicable': 3,\n 'murderers': 5,\n 'comprehend': 5,\n 'morbid': 1,\n 'eave': 1,\n 'nightly': 1,\n 'Paint': 1,\n 'vernal': 2,\n 'punctual': 1,\n 'wearies': 1,\n 'refrained': 4,\n 'View': 2,\n 'liquor': 1,\n 'relatives': 1,\n '?\"': 252,\n 'hunted': 19,\n 'yelled': 6,\n 'emphasis': 2,\n 'Voyages': 3,\n 'longitudes': 3,\n 'smite': 2,\n 'wived': 1,\n 'gallantly': 1,\n 'impudence': 1,\n 'FIGURED': 1,\n 'thence': 7,\n 'floats': 11,\n 'mails': 1,\n 'mud': 1,\n 'crags': 1,\n 'valiantly': 2,\n 'tons': 7,\n 'umbrella': 3,\n 'Rights': 1,\n 'indiscretions': 1,\n 'porpoise': 5,\n 'flowers': 4,\n 'imputed': 3,\n 'made': 178,\n '111': 1,\n 'responses': 1,\n 'Backs': 1,\n 'frighten': 2,\n 'antiquity': 5,\n 'compliance': 1,\n 'men': 236,\n 'grog': 2,\n 'bumpkins': 2,\n 'heralding': 1,\n 'circled': 1,\n 'unsettled': 1,\n 'passed': 41,\n 'misgiving': 1,\n 'Dance': 1,\n 'LEG': 1,\n 'yearly': 1,\n 'Wave': 1,\n 'monstrousest': 1,\n 'miasmas': 1,\n 'HALF': 1,\n 'east': 12,\n 'hooks': 5,\n 'deformities': 1,\n 'odoriferous': 1,\n 'flowing': 4,\n 'whelmed': 3,\n 'occurred': 10,\n 'widest': 2,\n 'dumps': 1,\n 'Anvil': 1,\n 'shield': 1,\n 'behalf': 1,\n 'ENTER': 1,\n 'Austrian': 1,\n 'TAKING': 1,\n '80': 1,\n 'shallop': 1,\n 'hunting': 9,\n 'trunk': 17,\n 'consciences': 1,\n 'introduced': 6,\n 'thousand': 51,\n 'anxious': 9,\n 'idealized': 1,\n '26': 1,\n 'foal': 1,\n 'smacking': 3,\n 'seals': 8,\n 'dragon': 5,\n 'shadings': 1,\n 'toddies': 1,\n 'undertake': 1,\n 'leaf': 2,\n 'Niphon': 1,\n 'befall': 2,\n 'vineyards': 1,\n 'cash': 5,\n 'voided': 1,\n 'rustiness': 1,\n 'Germans': 3,\n 'mouths': 9,\n 'monitions': 1,\n 'mobbing': 1,\n 'Ramadan': 11,\n 'H': 2,\n 'quaff': 1,\n 'jesty': 3,\n 'Sperm': 135,\n 'lowermost': 2,\n 'honed': 1,\n 'servile': 1,\n 'hem': 4,\n 'Over': 5,\n 'incensed': 2,\n 'negro': 22,\n 'unsplinterable': 1,\n 'hurried': 7,\n 'natur': 3,\n 'imitated': 1,\n 'excellent': 11,\n 'Gracious': 1,\n 'preserved': 5,\n 'glistened': 3,\n 'Nay': 13,\n 'clenched': 5,\n 'sinews': 3,\n 'Horrible': 1,\n 'AT': 4,\n 'pedigree': 1,\n 'Hearing': 3,\n 'lungless': 2,\n 'innate': 1,\n 'walk': 8,\n 'holies': 1,\n 'neighbors': 3,\n 'picture': 18,\n 'dictatorship': 1,\n 'innuendoes': 1,\n '\";': 6,\n 'contemporary': 4,\n 'Consequently': 1,\n 'Immortal': 1,\n 'thickest': 4,\n 'create': 1,\n 'STRAPS': 1,\n 'boiling': 15,\n 'ships': 87,\n 'School': 1,\n 'circumstantial': 2,\n 'quaint': 2,\n 'round': 242,\n 'profile': 5,\n 'loveliest': 1,\n 'preciousness': 1,\n 'especially': 44,\n 'hoof': 2,\n 'inestimable': 2,\n 'wash': 5,\n 'BIT': 1,\n 'worshipped': 3,\n 'ungentlemanly': 1,\n 'Mealy': 1,\n 'drink': 16,\n 'pen': 6,\n 'She': 15,\n 'interests': 2,\n 'declare': 6,\n 'contradictory': 3,\n 'accuracy': 3,\n 'firewood': 1,\n 'achieve': 1,\n 'Observatory': 1,\n 'denials': 1,\n 'stems': 1,\n 'dissolve': 1,\n 'outcries': 1,\n 'kiln': 1,\n 'Leviathanism': 1,\n 'pettiness': 1,\n 'unrelenting': 1,\n 'curb': 1,\n 'arriving': 2,\n 'Wales': 1,\n 'hammering': 2,\n 'befell': 5,\n 'peddling': 4,\n 'neglected': 2,\n 'legend': 2,\n 'residue': 1,\n 'Fore': 1,\n 'WALTER': 1,\n 'Twas': 3,\n 'SAILORS': 1,\n 'Isabella': 1,\n 'bottomless': 7,\n 'gasps': 2,\n 'Sail': 5,\n 'preserver': 2,\n 'maw': 3,\n 'Killed': 2,\n 'heedless': 4,\n 'floes': 1,\n 'limping': 3,\n 'embalmed': 6,\n 'THEIR': 2,\n 'predestinated': 4,\n 'barges': 1,\n 'whereof': 4,\n 'plumage': 4,\n 'friendship': 2,\n 'sieve': 2,\n 'unshunned': 1,\n 'Figuera': 1,\n 'deaths': 1,\n 'woven': 8,\n 'projecting': 9,\n 'arrah': 1,\n 'Armada': 1,\n 'mustard': 2,\n 'square': 13,\n 'biscuits': 2,\n 'resolve': 2,\n 'circumvention': 1,\n 'LYING': 2,\n 'afflicted': 1,\n 'pivot': 7,\n 'sordid': 1,\n 'Buoy': 1,\n '(': 210,\n 'Gazette': 1,\n 'motionless': 8,\n 'convivial': 4,\n 'breeze': 20,\n 'request': 3,\n 'driftings': 1,\n 'fettered': 1,\n 'anointing': 2,\n 'conquest': 1,\n 'staggering': 2,\n '120': 1,\n 'tiller': 13,\n 'knottiest': 1,\n 'maze': 2,\n 'ejaculation': 1,\n 'conceded': 1,\n 'voicelessly': 1,\n 'Pythagorean': 1,\n 'rig': 4,\n 'drought': 3,\n '31': 1,\n 'Mean': 1,\n 'fine': 57,\n 'Ignorance': 1,\n 'sob': 3,\n 'unmolested': 4,\n 'horizontally': 5,\n 'senate': 1,\n 'isolate': 1,\n 'worn': 11,\n 'narwhales': 2,\n 'natured': 3,\n 'pin': 6,\n 'kings': 14,\n 'blinding': 5,\n 'fagot': 1,\n 'cyphers': 1,\n 'Mordecai': 1,\n 'flea': 2,\n 'abstinence': 1,\n 'horses': 11,\n 'roared': 13,\n 'professed': 1,\n 'attached': 20,\n 'Inquisition': 1,\n 'roundingly': 1,\n 'FORWARD': 2,\n 'recumbent': 2,\n 'unstaggering': 1,\n 'foamingly': 1,\n 'Capes': 1,\n 'Freeze': 1,\n 'gazing': 22,\n 'Specksynder': 3,\n 'comes': 52,\n 'natures': 2,\n 'spleen': 1,\n 'restricted': 3,\n 'harbors': 5,\n 'Marten': 1,\n 'shovels': 1,\n 'fable': 5,\n 'woodcock': 1,\n 'Feegeeans': 1,\n 'daughters': 4,\n 'divided': 10,\n 'gas': 2,\n 'intangible': 1,\n 'modifies': 1,\n 'Fain': 1,\n 'fusee': 1,\n 'expanded': 5,\n 'ribs': 20,\n 'invokingly': 1,\n 'influential': 1,\n 'amen': 1,\n 'unspeakably': 2,\n 'siskur': 1,\n 'immitigable': 1,\n 'orphan': 1,\n 'custom': 7,\n 'plate': 7,\n 'modifications': 1,\n 'Plenty': 1,\n 'discover': 7,\n 'lucky': 7,\n 'elaborate': 2,\n 'leagued': 2,\n 'visiting': 3,\n 'sleek': 2,\n 'triply': 1,\n 'braiding': 1,\n 'Conversation': 1,\n 'DANIEL': 1,\n 'Zealanders': 1,\n 'demijohn': 1,\n 'unsubduable': 1,\n 'lazy': 3,\n 'Feel': 1,\n 'spinal': 8,\n 'brimming': 4,\n 'lipless': 1,\n 'persevering': 1,\n 'frequented': 5,\n 'overboard': 27,\n 'Battery': 1,\n 'ale': 4,\n 'staving': 2,\n 'Crammer': 1,\n 'solitaries': 2,\n 'wherefore': 5,\n 'atheistical': 1,\n 'passionately': 1,\n 'spoke': 15,\n 'difficulty': 4,\n 'holy': 15,\n 'sturgeon': 3,\n 'contrastingly': 1,\n 'songs': 1,\n 'harbours': 1,\n 'diagonically': 1,\n 'Corrupt': 2,\n 'flounders': 1,\n 'tawny': 4,\n 'waist': 11,\n 'codfish': 1,\n 'pomp': 1,\n 'cubs': 3,\n 'unreasoning': 3,\n 'peep': 8,\n 'ignorant': 10,\n 'unpleasing': 1,\n 'childhood': 3,\n 'threw': 10,\n 'Davis': 2,\n 'creativeness': 1,\n 'bough': 1,\n 'stones': 3,\n 'waving': 5,\n 'enactment': 1,\n 'fuss': 2,\n 'imperfect': 2,\n 'compacted': 2,\n 'ferule': 2,\n 'takes': 25,\n 'classical': 1,\n 'Raising': 1,\n 'craft': 54,\n 'employed': 15,\n 'vagueness': 1,\n 'indiscreet': 1,\n 'miraculous': 4,\n 'listening': 4,\n 'coats': 3,\n 'ridiculous': 5,\n 'System': 3,\n 'solicitously': 1,\n 'Porus': 2,\n 'scruples': 1,\n 'Venice': 2,\n 'LINE': 1,\n 'essence': 4,\n 'loving': 8,\n 'conclusion': 6,\n 'soot': 3,\n 'portrait': 4,\n 'orbits': 1,\n 'posture': 5,\n 'hardness': 1,\n 'bulls': 3,\n 'misbehaviour': 1,\n 'fifteen': 11,\n 'lustrous': 1,\n 'stopping': 9,\n 'mansion': 2,\n 'tauntingly': 1,\n 'moderation': 1,\n 'axles': 1,\n 'There': 147,\n 'Monadnock': 1,\n 'renowned': 1,\n 'marshy': 2,\n 'radiates': 1,\n 'accommodation': 1,\n 'thwack': 1,\n 'expressed': 5,\n 'blankness': 2,\n 'betoken': 1,\n 'received': 26,\n 'sterning': 2,\n 'L': 1,\n 'denoted': 3,\n 'Bress': 1,\n 'abated': 3,\n 'secrets': 6,\n 'passages': 1,\n 'conflict': 1,\n 'detestation': 2,\n 'relate': 1,\n 'ignorantly': 4,\n 'Bowditch': 3,\n 'nothingness': 1,\n 'Timor': 2,\n 'sustained': 3,\n 'lip': 10,\n 'officiating': 1,\n 'sleepers': 6,\n 'carriage': 3,\n 'refrigerators': 1,\n 'Rib': 2,\n 'statistically': 1,\n 'laureate': 1,\n 'indirectly': 13,\n 'knowing': 16,\n 'declared': 14,\n 'aggregate': 3,\n 'monster': 49,\n 'deadening': 1,\n 'limber': 4,\n 'shade': 7,\n 'completed': 6,\n 'calamities': 1,\n 'rainbowed': 2,\n 'freed': 2,\n 'footpads': 1,\n 'peopled': 1,\n 'flouts': 1,\n 'wilds': 1,\n 'epicures': 2,\n 'homage': 9,\n 'concernments': 1,\n 'branded': 4,\n 'foreign': 8,\n 'shortly': 10,\n 'announcing': 5,\n 'Davy': 2,\n 'rap': 3,\n 'shady': 1,\n 'uniformity': 1,\n 'HAS': 1,\n 'clings': 1,\n 'concentrations': 1,\n 'Slack': 1,\n 'pays': 3,\n 'EDMUND': 2,\n 'Arter': 1,\n 'multitudinously': 2,\n 'MAINMAST': 1,\n 'shooks': 1,\n 'windy': 1,\n 'charts': 7,\n 'largeness': 1,\n 'tearingly': 1,\n 'knobs': 1,\n 'condense': 2,\n 'Powers': 1,\n 'palace': 3,\n 'viewing': 1,\n 'bob': 1,\n 'deliverer': 1,\n 'sundering': 2,\n 'friends': 16,\n 'expensive': 2,\n 'willingly': 4,\n 'shattered': 6,\n 'mastications': 1,\n 'constantly': 4,\n 'mown': 2,\n 'Den': 1,\n 'where': 190,\n 'Littleton': 1,\n 'solemnly': 8,\n 'misgivings': 3,\n 'touchy': 1,\n 'severs': 1,\n 'concussion': 1,\n 'orphans': 5,\n 'country': 25,\n 'falling': 12,\n 'bluff': 4,\n '000': 20,\n 'bethinking': 4,\n 'Fasting': 1,\n 'cosmopolite': 1,\n 'Harmattans': 1,\n 'consisted': 2,\n 'sportively': 1,\n '69': 1,\n 'Swing': 1,\n 'Gold': 1,\n 'entrapped': 2,\n 'surmisings': 2,\n 'troublesome': 1,\n 'Righteousness': 1,\n 'Indians': 4,\n 'Rocky': 1,\n 'depart': 4,\n 'assumes': 1,\n 'masonry': 6,\n 'smiled': 1,\n 'lawful': 1,\n 'rally': 2,\n '3d': 1,\n 'Speak': 5,\n 'ideas': 6,\n 'cheer': 8,\n 'lump': 2,\n 'Popayan': 1,\n 'allegiance': 1,\n 'gleamings': 1,\n 'hammocks': 1,\n 'twigs': 1,\n 'cloves': 1,\n 'swoop': 1,\n 'deserted': 5,\n 'PURPOSE': 1,\n 'hollowly': 2,\n 'abundance': 4,\n 'tidiest': 1,\n 'Look': 51,\n 'curving': 2,\n 'concurred': 1,\n 'connect': 1,\n 'Himself': 1,\n 'Poles': 1,\n 'direful': 10,\n 'blooded': 2,\n 'silk': 2,\n 'stool': 4,\n 'comparatively': 8,\n 'unceasingly': 3,\n 'swims': 8,\n 'Commend': 1,\n 'triumphal': 2,\n 'dissembling': 2,\n 'ibis': 1,\n 'recollection': 2,\n 'bolder': 1,\n 'Swimming': 1,\n 'accustomed': 5,\n 'Spell': 1,\n 'acres': 3,\n 'cleanliest': 1,\n 'suds': 1,\n 'wolfish': 2,\n 'guide': 1,\n 'dawned': 1,\n 'Lascars': 1,\n 'primary': 2,\n 'Langsdorff': 5,\n 'bladder': 1,\n 'beginning': 19,\n 'jails': 1,\n 'fossils': 3,\n 'canting': 1,\n 'supplemental': 2,\n 'gurglings': 2,\n 'circumnavigated': 1,\n 'perfected': 1,\n 'fatally': 2,\n 'heed': 5,\n 'one': 889,\n 'withdrawn': 5,\n 'flourished': 3,\n \"?--'\": 1,\n 'wore': 11,\n 'Looking': 2,\n 'unfractioned': 1,\n 'cases': 25,\n 'Secondly': 3,\n 'tyrannical': 1,\n 'truer': 1,\n 'consume': 3,\n 'nutmeg': 1,\n 'whereas': 14,\n 'charged': 2,\n 'frail': 1,\n 'dines': 1,\n 'disable': 1,\n 'wards': 3,\n 'watergate': 1,\n 'congregated': 2,\n 'intact': 2,\n 'proprietors': 3,\n 'jets': 11,\n 'condescending': 1,\n 'thank': 9,\n 'Jago': 1,\n 'sorcery': 1,\n 'Battering': 1,\n 'swift': 24,\n 'poised': 3,\n 'striding': 4,\n '....': 2,\n 'fisheries': 3,\n 'heliotrope': 1,\n 'coincidings': 1,\n 'Cetacean': 3,\n 'monks': 1,\n 'villany': 1,\n 'miser': 2,\n 'jeweller': 1,\n 'define': 2,\n 'unreasonable': 2,\n 'Herman': 1,\n 'look': 154,\n 'intellectual': 4,\n 'transparent': 8,\n 'immortality': 2,\n 'vouchers': 1,\n 'popularize': 1,\n 'stop': 25,\n 'Northern': 4,\n 'crocodile': 2,\n 'influences': 7,\n 'Despairing': 1,\n 'wet': 9,\n 'interesting': 8,\n 'copying': 1,\n 'porches': 1,\n 'FISHERMAN': 1,\n 'Fifth': 2,\n 'foreshortened': 1,\n 'Watch': 5,\n 'SPERMA': 2,\n 'biased': 1,\n 'drunken': 3,\n 'Pressing': 1,\n 'Get': 3,\n 'foie': 1,\n 'temporary': 11,\n 'trodden': 1,\n 'squatted': 1,\n 'bleeds': 2,\n 'sports': 1,\n 'Fishes': 2,\n 'arms': 37,\n 'wood': 34,\n 'upward': 5,\n 'hugging': 2,\n 'barest': 1,\n 'razeed': 1,\n '46': 1,\n 'liked': 2,\n 'hark': 4,\n 'exploding': 1,\n 'conductor': 1,\n 'Thou': 39,\n 'handing': 3,\n 'swerve': 4,\n 'packs': 1,\n 'impulsive': 2,\n 'malice': 12,\n 'block': 11,\n 'strikes': 5,\n 'unstricken': 1,\n 'HWAL': 1,\n 'BENNETT': 2,\n 'ruptured': 1,\n 'hand': 205,\n 'respect': 16,\n 'monument': 2,\n 'duplicate': 3,\n 'incompatible': 2,\n 'eatable': 1,\n 'unharming': 2,\n 'friend': 25,\n 'drift': 1,\n 'Santa': 2,\n 'Stealing': 1,\n 'fragrance': 1,\n 'afar': 5,\n 'mission': 1,\n 'flavorish': 1,\n 'materials': 2,\n 'Were': 4,\n 'divined': 1,\n 'guiltiness': 1,\n 'throats': 1,\n 'cindered': 1,\n 'disguises': 1,\n 'slowly': 47,\n 'whaleman': 44,\n 'only': 360,\n 'address': 4,\n 'Rig': 5,\n 'thoughtfully': 1,\n 'periodicalness': 1,\n 'ERECTION': 1,\n 'gardens': 3,\n 'tribulation': 1,\n 'thawed': 1,\n 'clearest': 1,\n 'obsequious': 1,\n 'missing': 16,\n 'Flukes': 1,\n 'butteries': 1,\n 'about': 304,\n 'farings': 1,\n 'Phaedon': 1,\n 'lint': 1,\n 'furnished': 16,\n 'research': 4,\n 'imposingly': 1,\n 'mizen': 4,\n 'incorrect': 1,\n 'hare': 2,\n 'son': 17,\n '124': 1,\n 'brand': 2,\n 'grow': 24,\n 'sleepless': 2,\n 'SPOUTINGS': 1,\n 'Gor': 2,\n 'Rodmond': 1,\n 'blessing': 1,\n 'thorns': 2,\n 'whimsiness': 1,\n 'VIDE': 1,\n 'natives': 3,\n 'move': 9,\n 'College': 2,\n 'slanting': 4,\n 'relations': 1,\n 'marked': 18,\n 'investigate': 1,\n 'Taking': 2,\n 'bitter': 8,\n 'hypothesize': 1,\n 'excitedly': 1,\n 'precision': 3,\n 'Crockett': 1,\n 'thenceforth': 1,\n 'Alabama': 6,\n 'intimate': 3,\n 'fights': 3,\n 'confidently': 2,\n 'via': 1,\n 'Whilst': 1,\n 'Et': 1,\n 'pickle': 5,\n 'TOOLS': 1,\n 'passionlessness': 1,\n 'bust': 2,\n 'two': 285,\n 'corkscrew': 1,\n 'tribes': 3,\n 'stove': 22,\n 'abroad': 6,\n 'murmur': 1,\n 'caper': 1,\n 'Shifting': 1,\n 'impatience': 4,\n 'Pooh': 1,\n 'apron': 1,\n 'bet': 1,\n 'fortress': 2,\n 'emblazonings': 1,\n 'wanderer': 1,\n 'breaks': 5,\n 'visitation': 1,\n 'facetious': 3,\n 'companied': 1,\n 'write': 5,\n 'Duodecimo': 1,\n 'exacted': 1,\n 'forked': 6,\n 'dazed': 1,\n 'Nun': 1,\n 'inclining': 1,\n 'sheaved': 2,\n 'workers': 1,\n 'felt': 41,\n 'Polynesia': 1,\n 'Ohio': 3,\n 'purse': 7,\n 'birthmark': 1,\n 'glory': 17,\n 'couldn': 8,\n 'Mistress': 1,\n 'Must': 1,\n 'clutch': 5,\n 'ramifying': 1,\n 'Landlord': 7,\n 'vividly': 1,\n 'face': 94,\n 'parents': 1,\n 'holdest': 1,\n 'retrace': 1,\n 'broke': 12,\n 'Holding': 3,\n 'ankles': 2,\n 'appear': 6,\n 'vault': 3,\n 'ulcerous': 1,\n 'topsail': 2,\n 'sneaks': 1,\n 'untouched': 3,\n 'inboard': 3,\n 'glassy': 4,\n 'growled': 2,\n 'atom': 1,\n 'participating': 1,\n 'endeavor': 4,\n 'raging': 5,\n 'tier': 2,\n 'far': 161,\n ...}"
          },
          "metadata": {}
        }
      ],
      "execution_count": 10
    },
    {
      "cell_type": "markdown",
      "source": "Un método mejor para hacer un diccionario es de la siguiente manera (NLTK tiene una funcion util para esto):\n",
      "metadata": {
        "tags": [],
        "cell_id": "00018-c41cb6b0-f6ba-41e9-97de-cb899ad19c29",
        "deepnote_cell_type": "markdown"
      }
    },
    {
      "cell_type": "code",
      "source": "fdist=FreqDist(text1)\nfdist.most_common(20)",
      "metadata": {
        "tags": [],
        "cell_id": "00019-383d8b18-c121-44f9-b56c-06fe359887f5",
        "deepnote_to_be_reexecuted": false,
        "source_hash": "980e0d88",
        "execution_millis": 179,
        "execution_start": 1615259937776,
        "deepnote_cell_type": "code"
      },
      "outputs": [
        {
          "output_type": "execute_result",
          "execution_count": 12,
          "data": {
            "text/plain": "[(',', 18713),\n ('the', 13721),\n ('.', 6862),\n ('of', 6536),\n ('and', 6024),\n ('a', 4569),\n ('to', 4542),\n (';', 4072),\n ('in', 3916),\n ('that', 2982),\n (\"'\", 2684),\n ('-', 2552),\n ('his', 2459),\n ('it', 2209),\n ('I', 2124),\n ('s', 1739),\n ('is', 1695),\n ('he', 1661),\n ('with', 1659),\n ('was', 1632)]"
          },
          "metadata": {}
        }
      ],
      "execution_count": 12
    },
    {
      "cell_type": "markdown",
      "source": "Podemos graficar qué tan frecuentes son las palabras:",
      "metadata": {
        "tags": [],
        "cell_id": "00020-8dbdbbca-d929-4f72-85f9-01316a992dd9",
        "deepnote_cell_type": "markdown"
      }
    },
    {
      "cell_type": "code",
      "source": "a=list(fdist.values())\na=np.array(a)\na=np.sort(a)\na=a[::-1]\nplt.yscale('log')\nplt.xscale('log')\nplt.plot(a)",
      "metadata": {
        "tags": [],
        "cell_id": "00021-93cbdd67-8acd-42de-b150-2ac8e93d148b",
        "deepnote_to_be_reexecuted": false,
        "source_hash": "72607c19",
        "execution_start": 1615259977406,
        "execution_millis": 697,
        "deepnote_cell_type": "code"
      },
      "outputs": [
        {
          "output_type": "execute_result",
          "execution_count": 13,
          "data": {
            "text/plain": "[<matplotlib.lines.Line2D at 0x7ffb914974d0>]"
          },
          "metadata": {}
        },
        {
          "data": {
            "text/plain": "<Figure size 432x288 with 1 Axes>",
            "image/png": "[encoded data removed]"
          },
          "metadata": {
            "needs_background": "light"
          },
          "output_type": "display_data"
        }
      ],
      "execution_count": 13
    },
    {
      "cell_type": "markdown",
      "source": "Filtrando la lista",
      "metadata": {
        "tags": [],
        "cell_id": "00022-7ccf68af-ac4f-4f12-af6c-47d227de7436",
        "deepnote_cell_type": "markdown"
      }
    },
    {
      "cell_type": "code",
      "source": "palabras_largas=[palabra for palabra in text1 if len(palabra)>5]\nvocabulario_filtrado=sorted(set(palabras_largas))\nvocabulario_filtrado[:10]",
      "metadata": {
        "tags": [],
        "cell_id": "00023-99411fb8-f66f-47b6-bd3a-55a0c4174ff6",
        "deepnote_to_be_reexecuted": false,
        "source_hash": "8b199088",
        "execution_start": 1615260005174,
        "execution_millis": 15,
        "deepnote_cell_type": "code"
      },
      "outputs": [
        {
          "output_type": "execute_result",
          "execution_count": 14,
          "data": {
            "text/plain": "['ACCOUNT',\n 'ADDITIONAL',\n 'ADVANCING',\n 'ADVENTURES',\n 'AFFGHANISTAN',\n 'AFRICA',\n 'AGAINST',\n 'ALFRED',\n 'ALGERINE',\n 'AMERICA']"
          },
          "metadata": {}
        }
      ],
      "execution_count": 14
    },
    {
      "cell_type": "markdown",
      "source": "Veamos una distribucion de palabras en esta nueva lista con el vocabulario filtrado hacemos una lista de tuplas\n\n",
      "metadata": {
        "tags": [],
        "cell_id": "00024-b723bf8d-65dc-4b73-8482-e66ee4900d64",
        "deepnote_cell_type": "markdown"
      }
    },
    {
      "cell_type": "code",
      "source": "palabras_interesantes= [(palabra,fdist[palabra]) for palabra in set(text1) if len(palabra)>5 and fdist[palabra]>10] \nlen(palabras_interesantes)\n\n",
      "metadata": {
        "tags": [],
        "cell_id": "00025-86ee2589-0ae4-4ade-8240-a1563a04ada1",
        "deepnote_to_be_reexecuted": false,
        "source_hash": "4ca34857",
        "execution_millis": 22,
        "execution_start": 1615260056780,
        "deepnote_cell_type": "code"
      },
      "outputs": [
        {
          "output_type": "execute_result",
          "execution_count": 17,
          "data": {
            "text/plain": "957"
          },
          "metadata": {}
        }
      ],
      "execution_count": 17
    },
    {
      "cell_type": "code",
      "source": "#voy a convertir esto a numpy para ordenar\n\ndtypes=[('word','S10'),('frequency',int)]\n\npalabras_interesantes = np.array(palabras_interesantes,dtype=dtypes)\npalabras_interesantes = np.sort(palabras_interesantes, order='frequency')",
      "metadata": {
        "tags": [],
        "cell_id": "00026-08b5f319-338a-484a-ac7a-24ba54f9253b",
        "deepnote_to_be_reexecuted": false,
        "source_hash": "e3e741e5",
        "execution_millis": 2,
        "execution_start": 1615260062640,
        "deepnote_cell_type": "code"
      },
      "outputs": [],
      "execution_count": 18
    },
    {
      "cell_type": "code",
      "source": "#grafiquemos\ntop_words=20\n\nx=np.arange(len(palabras_interesantes[-top_words:]))\ny=[freq[1] for freq in palabras_interesantes[-top_words:]]\nplt.figure(figsize=(10,5))\nplt.xticks(x, [str(freq[0]) for freq in palabras_interesantes[-top_words:]], rotation= 'vertical')\nplt.plot(x,y)\nplt.grid(True)\nplt.show",
      "metadata": {
        "tags": [],
        "cell_id": "00027-90ab3017-7224-49a0-8750-411a77274b98",
        "deepnote_to_be_reexecuted": false,
        "source_hash": "db87e281",
        "execution_start": 1615260068137,
        "execution_millis": 259,
        "deepnote_cell_type": "code"
      },
      "outputs": [
        {
          "output_type": "execute_result",
          "execution_count": 19,
          "data": {
            "text/plain": "<function matplotlib.pyplot.show(close=None, block=None)>"
          },
          "metadata": {}
        },
        {
          "data": {
            "text/plain": "<Figure size 720x360 with 1 Axes>",
            "image/png": "[encoded data removed]"
          },
          "metadata": {
            "needs_background": "light"
          },
          "output_type": "display_data"
        }
      ],
      "execution_count": 19
    },
    {
      "cell_type": "markdown",
      "source": "<a style='text-decoration:none;line-height:16px;display:flex;color:#5B5B62;padding:10px;justify-content:end;' href='https://deepnote.com?utm_source=created-in-deepnote-cell&projectId=b1de1dad-9c4b-4f03-b453-defaa88f5f4e' target=\"_blank\">\n<img style='display:inline;max-height:16px;margin:0px;margin-right:7.5px;' src='data:image/svg+xml;base64,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' > </img>\nCreated in <span style='font-weight:600;margin-left:4px;'>Deepnote</span></a>",
      "metadata": {
        "tags": [],
        "created_in_deepnote_cell": true,
        "deepnote_cell_type": "markdown"
      }
    }
  ],
  "nbformat": 4,
  "nbformat_minor": 2,
  "metadata": {
    "orig_nbformat": 2,
    "deepnote_notebook_id": "cf8bdaf2-174f-44b0-85f3-46329aea35d6",
    "deepnote": {},
    "deepnote_execution_queue": []
  }
}